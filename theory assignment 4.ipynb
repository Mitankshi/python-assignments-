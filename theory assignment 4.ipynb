{
 "cells": [
  {
   "cell_type": "markdown",
   "id": "1e58a019",
   "metadata": {},
   "source": [
    "Q1. What exactly is []?\n",
    "\n",
    "The empty list value, which is a list value that contains no items."
   ]
  },
  {
   "cell_type": "markdown",
   "id": "0e814387",
   "metadata": {},
   "source": [
    "Q2. How would you assign the value 'hello' as the third value in a list stored in a variable named spam? (Assume spam contains [2, 4, 6, 8, 10].)\n",
    "For the following three questions, let's say spam contains the list ['a', 'b', 'c', 'd'].\n",
    "\n",
    "spam[2] = 'hello' (Notice that the third value in a list is at index 2 because the first index is 0.)"
   ]
  },
  {
   "cell_type": "markdown",
   "id": "3570d30a",
   "metadata": {},
   "source": [
    "Q3. What is the value of spam[int(int('3' * 2) / 11)]?\n",
    "\n"
   ]
  },
  {
   "cell_type": "code",
   "execution_count": 1,
   "id": "24737e8d",
   "metadata": {},
   "outputs": [],
   "source": [
    "spam = int(int('3'*2)/11)"
   ]
  },
  {
   "cell_type": "code",
   "execution_count": 2,
   "id": "5c836a29",
   "metadata": {},
   "outputs": [
    {
     "data": {
      "text/plain": [
       "3"
      ]
     },
     "execution_count": 2,
     "metadata": {},
     "output_type": "execute_result"
    }
   ],
   "source": [
    "spam"
   ]
  },
  {
   "cell_type": "markdown",
   "id": "568180af",
   "metadata": {},
   "source": [
    "Q4. What is the value of spam[-1]?"
   ]
  },
  {
   "cell_type": "code",
   "execution_count": 7,
   "id": "e84fe8e6",
   "metadata": {},
   "outputs": [
    {
     "data": {
      "text/plain": [
       "-1"
      ]
     },
     "execution_count": 7,
     "metadata": {},
     "output_type": "execute_result"
    }
   ],
   "source": [
    "spam[-1]"
   ]
  },
  {
   "cell_type": "markdown",
   "id": "4d8dc248",
   "metadata": {},
   "source": [
    "Q5. What is the value of spam[:2]?"
   ]
  },
  {
   "cell_type": "code",
   "execution_count": 6,
   "id": "f2f25b29",
   "metadata": {},
   "outputs": [
    {
     "ename": "SyntaxError",
     "evalue": "invalid syntax (4155826412.py, line 1)",
     "output_type": "error",
     "traceback": [
      "\u001b[1;36m  Input \u001b[1;32mIn [6]\u001b[1;36m\u001b[0m\n\u001b[1;33m    spam = [:2]\u001b[0m\n\u001b[1;37m            ^\u001b[0m\n\u001b[1;31mSyntaxError\u001b[0m\u001b[1;31m:\u001b[0m invalid syntax\n"
     ]
    }
   ],
   "source": [
    "spam = [:2]"
   ]
  },
  {
   "cell_type": "markdown",
   "id": "967e65a3",
   "metadata": {},
   "source": [
    "Let's pretend bacon has the list [3.14, 'cat' 11, 'cat' True] for the next three questions."
   ]
  },
  {
   "cell_type": "code",
   "execution_count": 8,
   "id": "dc7b8d04",
   "metadata": {},
   "outputs": [],
   "source": [
    "bacon = [3.14,'cat',11,'cat',True]"
   ]
  },
  {
   "cell_type": "markdown",
   "id": "5e850236",
   "metadata": {},
   "source": [
    "Q6. What is the value of bacon.index(&#39;cat&#39;)?"
   ]
  },
  {
   "cell_type": "code",
   "execution_count": 9,
   "id": "e340f71d",
   "metadata": {},
   "outputs": [
    {
     "data": {
      "text/plain": [
       "1"
      ]
     },
     "execution_count": 9,
     "metadata": {},
     "output_type": "execute_result"
    }
   ],
   "source": [
    "bacon.index('cat')"
   ]
  },
  {
   "cell_type": "markdown",
   "id": "01499982",
   "metadata": {},
   "source": [
    "Q7. How does bacon.append(99) change the look of the list value in bacon?"
   ]
  },
  {
   "cell_type": "code",
   "execution_count": 10,
   "id": "53157193",
   "metadata": {},
   "outputs": [],
   "source": [
    "bacon.append(99)"
   ]
  },
  {
   "cell_type": "code",
   "execution_count": 11,
   "id": "13f52ee1",
   "metadata": {},
   "outputs": [
    {
     "data": {
      "text/plain": [
       "[3.14, 'cat', 11, 'cat', True, 99]"
      ]
     },
     "execution_count": 11,
     "metadata": {},
     "output_type": "execute_result"
    }
   ],
   "source": [
    "bacon"
   ]
  },
  {
   "cell_type": "markdown",
   "id": "891b3ca4",
   "metadata": {},
   "source": [
    "Q8. How does bacon.remove(&#39;cat&#39;) change the look of the list in bacon?"
   ]
  },
  {
   "cell_type": "code",
   "execution_count": 12,
   "id": "23e02a74",
   "metadata": {},
   "outputs": [],
   "source": [
    "bacon.remove('cat')"
   ]
  },
  {
   "cell_type": "code",
   "execution_count": 13,
   "id": "7fe42f4b",
   "metadata": {},
   "outputs": [
    {
     "data": {
      "text/plain": [
       "[3.14, 11, 'cat', True, 99]"
      ]
     },
     "execution_count": 13,
     "metadata": {},
     "output_type": "execute_result"
    }
   ],
   "source": [
    "bacon"
   ]
  },
  {
   "cell_type": "markdown",
   "id": "4af98d54",
   "metadata": {},
   "source": [
    "Q9. What are the list concatenation and list replication operators?\n",
    "\n",
    "The operator for list concatenation is +, while the operator for replication is *."
   ]
  },
  {
   "cell_type": "markdown",
   "id": "b08b7c9b",
   "metadata": {},
   "source": [
    "Q10. What is difference between the list methods append() and insert()?\n",
    "\n",
    "The difference between the two methods is that . append() adds an item to the end of a list, whereas . insert() inserts and item in a specified position in the list."
   ]
  },
  {
   "cell_type": "markdown",
   "id": "708f1e83",
   "metadata": {},
   "source": [
    "Q11. What are the two methods for removing items from a list?\n",
    "\n",
    "The methods are remove(), pop() and clear(). It helps to remove the very first given element matching from the list. The pop() method removes an element from the list based on the index given. The clear() method will remove all the elements present in the list."
   ]
  },
  {
   "cell_type": "markdown",
   "id": "cf0e8dfe",
   "metadata": {},
   "source": [
    "Q12. Describe how list values and string values are identical.\n",
    "\n",
    "Both strings and lists have lengths: a string's length is the number of characters in the string; a list's length is the number of items in the list. Each character in a string as well as each item in a list has a position, also called an index."
   ]
  },
  {
   "cell_type": "markdown",
   "id": "5e09dab7",
   "metadata": {},
   "source": [
    "Q13. What's the difference between tuples and lists?\n",
    "\n",
    "The major difference between list and tuple whereas lists are mutable, and tuples are immutable."
   ]
  },
  {
   "cell_type": "markdown",
   "id": "659e921e",
   "metadata": {},
   "source": [
    "Q14. How do you type a tuple value that only contains the integer 42?\n",
    "\n",
    "(42,) (The trailing comma is mandatory.)"
   ]
  },
  {
   "cell_type": "markdown",
   "id": "a3b5338d",
   "metadata": {},
   "source": [
    "Q15. How do you get a list value's tuple form? How do you get a tuple value's list form?\n",
    "\n",
    "list to tuple \n",
    "1) using tuple() builtin function\n",
    "2) using loop inside the tuple\n",
    "3) unpack list inside the parenthesis"
   ]
  },
  {
   "cell_type": "markdown",
   "id": "37844520",
   "metadata": {},
   "source": [
    "Q16. Variables that \"contain\" list values are not necessarily lists themselves. Instead, what do they contain?\n",
    "\n",
    "Variables will contain references to list values rather than list values themselves. But for strings and integer values, variables simply contain the string or integer value."
   ]
  },
  {
   "cell_type": "markdown",
   "id": "2e6894a8",
   "metadata": {},
   "source": [
    "Q17. How do you distinguish between copy.copy() and copy.deepcopy()?\n",
    "\n",
    "copy() create reference to original object. If you change copied object - you change the original object. . deepcopy() creates new object and does real copying of original object to new one."
   ]
  },
  {
   "cell_type": "code",
   "execution_count": null,
   "id": "36358bad",
   "metadata": {},
   "outputs": [],
   "source": []
  }
 ],
 "metadata": {
  "kernelspec": {
   "display_name": "Python 3 (ipykernel)",
   "language": "python",
   "name": "python3"
  },
  "language_info": {
   "codemirror_mode": {
    "name": "ipython",
    "version": 3
   },
   "file_extension": ".py",
   "mimetype": "text/x-python",
   "name": "python",
   "nbconvert_exporter": "python",
   "pygments_lexer": "ipython3",
   "version": "3.9.12"
  }
 },
 "nbformat": 4,
 "nbformat_minor": 5
}
