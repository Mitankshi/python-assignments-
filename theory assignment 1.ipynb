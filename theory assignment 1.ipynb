{
 "cells": [
  {
   "cell_type": "markdown",
   "id": "21bb09be",
   "metadata": {},
   "source": [
    "Q1.In the below elements which of them are values or an expression? eg:- values can be\n",
    "integer or string and expressions will be mathematical operators.\n",
    "\n",
    "\n",
    "* = \"expressions\"\n",
    "\"hello\" = \"value\"\n",
    "-87.8 = \"value\"\n",
    "- = \"expressions\"\n",
    "/ = \"expressions\"\n",
    "+ = \"expressions\"\n",
    "6 = \"value\""
   ]
  },
  {
   "cell_type": "markdown",
   "id": "0b9dea21",
   "metadata": {},
   "source": [
    "Q2.What is the difference between string and variable?\n",
    "\n",
    "A Variable is a store of information, and a String is a type of information you would store in a Variable. A String is usually words, enclosed with \"\"\n",
    "Eg\n",
    "String x =\"Welcome to SoloLearn\"\n",
    "X is the Variable, and we declared it as a String, use the single = to assign the text to it\n"
   ]
  },
  {
   "cell_type": "markdown",
   "id": "ef0de48f",
   "metadata": {},
   "source": [
    "Q3.Describe three different data types.\n",
    "\n",
    "There are 3 different types of data types:\n",
    "1) numeric data type:\n",
    "   a) integer\n",
    "   b) float\n",
    "   c) complex numbers\n",
    "\n",
    "2) sequence data type:\n",
    "   a) string\n",
    "   b) list\n",
    "   c) tuple\n",
    "\n",
    "3) boolean data type:\n",
    "   a) True\n",
    "   b) False\n",
    "\n",
    "\n",
    "1) numeric data type:\n",
    "In Python, numeric data type represent the data which has numeric value. Numeric value can be integer, floating number or even complex numbers.\n",
    "\n",
    "Integers – This value is represented by int class. It contains positive or negative whole numbers (without fraction or decimal). In Python there is no limit to how long an integer value can be.\n",
    "\n",
    "Float – This value is represented by float class. It is a real number with floating point representation. It is specified by a decimal point. Optionally, the character e or E followed by a positive or negative integer may be appended to specify scientific notation.\n",
    "\n",
    "Complex Numbers – Complex number is represented by complex class. It is specified as (real part) + (imaginary part)j. For example – 2+3\n",
    "\n",
    "2) sequence data type:\n",
    "In Python, sequence is the ordered collection of similar or different data types. Sequences allows to store multiple values in an organized and efficient fashion\n",
    "\n",
    "String\n",
    "In Python, Strings are arrays of bytes representing Unicode characters. A string is a collection of one or more characters put in a single quote, double-quote or triple quote. In python there is no character data type, a character is a string of length one. It is represented by str class.\n",
    "\n",
    "list\n",
    "lists are just like arrays, declared in other languages which is a ordered collection of data. it is very flexible as the items in a list do not need to be of the same\n",
    "not type\n",
    "\n",
    "Tuple\n",
    "Just like list, tuple is also an ordered collection of Python objects. The only difference between tuple and list is that tuples are immutable i.e. tuples cannot be modified after it is created. It is represented by tuple class\n",
    "\n",
    "3) boolean data type:\n",
    "Data type with one of the two built-in values, True or False. Boolean objects that are equal to True are truthy (true), and those equal to False are falsy (false). But non-Boolean objects can be evaluated in Boolean context as well and determined to be true or false. It is denoted by the class bool."
   ]
  },
  {
   "cell_type": "markdown",
   "id": "e544deac",
   "metadata": {},
   "source": [
    "Q4.What is an expression made up of? What do all expressions do?\n",
    "\n",
    "An expression is a combination of operators and operands that is interpreted to produce some other value. In any programming language, an expression is evaluated as per the precedence of its operators. So that if there is more than one operator in an expression, their precedence decides which operation will be performed first. We have many different types of expressions in Python. Let’s discuss all types along with some exemplar codes :\n",
    "\n",
    "1. Constant Expressions: These are the expressions that have constant values only.\n",
    "\n",
    "2. Arithmetic Expressions: An arithmetic expression is a combination of numeric values, operators, and sometimes parenthesis. The result of this type of expression is also a numeric value. The operators used in these expressions are arithmetic operators like addition, subtraction, etc. Here are some arithmetic operators in Python:\n",
    "\n",
    "Operators\tSyntax\tFunctioning\n",
    "+\tx + y\tAddition\n",
    "–\tx – y\tSubtraction\n",
    "*\tx * y\tMultiplication\n",
    "/\tx / y\tDivision\n",
    "//\tx // y\tQuotient\n",
    "%\tx % y\tRemainder\n",
    "**\tx ** y\tExponentiation\n",
    "\n",
    "3. Integral Expressions: These are the kind of expressions that produce only integer results after all computations and type conversions.\n",
    "\n",
    "4. Floating Expressions: These are the kind of expressions which produce floating point numbers as result after all computations and type conversions.\n",
    "\n",
    "5. Relational Expressions: In these types of expressions, arithmetic expressions are written on both sides of relational operator (> , < , >= , <=). Those arithmetic expressions are evaluated first, and then compared as per relational operator and produce a boolean output in the end. These expressions are also called Boolean expressions.\n",
    "\n",
    "6. Logical Expressions: These are kinds of expressions that result in either True or False. It basically specifies one or more conditions. For example, (10 == 9) is a condition if 10 is equal to 9. As we know it is not correct, so it will return False. Studying logical expressions, we also come across some logical operators which can be seen in logical expressions most often. Here are some logical operators in Python:\n",
    "\n",
    "Operator\tSyntax\tFunctioning\n",
    "and\tP and Q\tIt returns true if both P and Q are true otherwise returns false\n",
    "or\tP or Q\tIt returns true if at least one of P and Q is true\n",
    "not\tnot P\tIt returns true if condition P is false\n",
    "\n",
    "7. Bitwise Expressions: These are the kind of expressions in which computations are performed at bit level\n",
    "\n",
    "8. Combinational Expressions: We can also use different types of expressions in a single expression, and that will be termed as combinational expressions."
   ]
  },
  {
   "cell_type": "markdown",
   "id": "33fb203c",
   "metadata": {},
   "source": [
    "Q5.This assignment statements, like spam = 10. What is the difference between an expression and a statement?\n",
    "\n",
    "In programming language terminology, an “expression” is a combination of values and functions that are combined and interpreted by the compiler to create a new value, as opposed to a “statement” which is just a standalone unit of execution and doesn’t return anything. One way to think of this is that the purpose of an expression is to create a value (with some possible side-effects), while the sole purpose of a statement is to have side-effects."
   ]
  },
  {
   "cell_type": "markdown",
   "id": "7a679484",
   "metadata": {},
   "source": [
    "Q6.After running the following code, what does the variable bacon contain?\n",
    "bacon = 22\n",
    "bacon + 1\n",
    "\n"
   ]
  },
  {
   "cell_type": "code",
   "execution_count": 1,
   "id": "2e4ce888",
   "metadata": {},
   "outputs": [
    {
     "data": {
      "text/plain": [
       "23"
      ]
     },
     "execution_count": 1,
     "metadata": {},
     "output_type": "execute_result"
    }
   ],
   "source": [
    "bacon =22\n",
    "bacon +1"
   ]
  },
  {
   "cell_type": "markdown",
   "id": "a8b8dc42",
   "metadata": {},
   "source": [
    "Q7. What should the values of the following two terms be?\n",
    "'spam' + 'spamspam'\n",
    "'spam' * 3"
   ]
  },
  {
   "cell_type": "code",
   "execution_count": 2,
   "id": "330f5645",
   "metadata": {},
   "outputs": [
    {
     "data": {
      "text/plain": [
       "'spamspamspam'"
      ]
     },
     "execution_count": 2,
     "metadata": {},
     "output_type": "execute_result"
    }
   ],
   "source": [
    "'spam'+'spamspam'\n",
    "'spam'*3"
   ]
  },
  {
   "cell_type": "markdown",
   "id": "65ed41ca",
   "metadata": {},
   "source": [
    "Q8. Why is eggs a valid variable name while 100 is invalid?\n",
    "\n",
    "becuase variable names cannot begin with a number."
   ]
  },
  {
   "cell_type": "markdown",
   "id": "5831c725",
   "metadata": {},
   "source": [
    "Q9. What three functions can be used to get the integer, floating-point number, or string version of a value?\n",
    "\n",
    "integer = int()\n",
    "\n",
    "floating-point = float()\n",
    "\n",
    "string = str()"
   ]
  },
  {
   "cell_type": "markdown",
   "id": "6c5aa7c6",
   "metadata": {},
   "source": [
    "Q10. Why does this expression cause an error? How can you fix it?\n",
    "\"I have eaten\" + 99 + \"burritos.\""
   ]
  },
  {
   "cell_type": "code",
   "execution_count": 3,
   "id": "6c70c44a",
   "metadata": {},
   "outputs": [
    {
     "ename": "TypeError",
     "evalue": "can only concatenate str (not \"int\") to str",
     "output_type": "error",
     "traceback": [
      "\u001b[1;31m---------------------------------------------------------------------------\u001b[0m",
      "\u001b[1;31mTypeError\u001b[0m                                 Traceback (most recent call last)",
      "Input \u001b[1;32mIn [3]\u001b[0m, in \u001b[0;36m<cell line: 1>\u001b[1;34m()\u001b[0m\n\u001b[1;32m----> 1\u001b[0m \u001b[38;5;124;43m\"\u001b[39;49m\u001b[38;5;124;43mi have eaten\u001b[39;49m\u001b[38;5;124;43m\"\u001b[39;49m\u001b[43m \u001b[49m\u001b[38;5;241;43m+\u001b[39;49m\u001b[43m \u001b[49m\u001b[38;5;241;43m99\u001b[39;49m \u001b[38;5;241m+\u001b[39m \u001b[38;5;124m\"\u001b[39m\u001b[38;5;124mburritos.\u001b[39m\u001b[38;5;124m\"\u001b[39m\n",
      "\u001b[1;31mTypeError\u001b[0m: can only concatenate str (not \"int\") to str"
     ]
    }
   ],
   "source": [
    "\"i have eaten\" + 99 + \"burritos.\""
   ]
  },
  {
   "cell_type": "markdown",
   "id": "f342a64b",
   "metadata": {},
   "source": [
    "The expression causes an error because 99 is an integer, and only strings can be concatenated to other strings with the + operator.\n",
    "the correct way is:\n",
    "'i have eaten' + str(99) + 'burritos'\n"
   ]
  },
  {
   "cell_type": "code",
   "execution_count": 4,
   "id": "e2feff2a",
   "metadata": {},
   "outputs": [
    {
     "data": {
      "text/plain": [
       "'i have eaten99burritos.'"
      ]
     },
     "execution_count": 4,
     "metadata": {},
     "output_type": "execute_result"
    }
   ],
   "source": [
    "'i have eaten' + str(99) + 'burritos.'"
   ]
  },
  {
   "cell_type": "code",
   "execution_count": null,
   "id": "c77e96cb",
   "metadata": {},
   "outputs": [],
   "source": []
  }
 ],
 "metadata": {
  "kernelspec": {
   "display_name": "Python 3 (ipykernel)",
   "language": "python",
   "name": "python3"
  },
  "language_info": {
   "codemirror_mode": {
    "name": "ipython",
    "version": 3
   },
   "file_extension": ".py",
   "mimetype": "text/x-python",
   "name": "python",
   "nbconvert_exporter": "python",
   "pygments_lexer": "ipython3",
   "version": "3.9.12"
  }
 },
 "nbformat": 4,
 "nbformat_minor": 5
}
