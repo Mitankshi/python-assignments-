{
 "cells": [
  {
   "cell_type": "markdown",
   "id": "3cc5407f",
   "metadata": {},
   "source": [
    "Q1. Why are functions advantageous to have in your programs?\n",
    "\n",
    "Functions reduce the need for duplicate code. This makes programs shorter, easier to read, and easier to update."
   ]
  },
  {
   "cell_type": "markdown",
   "id": "410b8bb9",
   "metadata": {},
   "source": [
    "Q2. When does the code in a function run: when it's specified or when it's called?\n",
    "\n",
    "The code in a function executes when the function is called, not when the function is defined"
   ]
  },
  {
   "cell_type": "markdown",
   "id": "ca06d197",
   "metadata": {},
   "source": [
    "Q3. What statement creates a function?\n",
    "\n",
    "The def statement defines, i.e. creates a function."
   ]
  },
  {
   "cell_type": "markdown",
   "id": "441f1f0b",
   "metadata": {},
   "source": [
    "Q4. What is the difference between a function and a function call?\n",
    "\n",
    "A function consists of the def statement and the code in its def clause. A function call is what moves the program execution into the function, and the function call evaluates to the function's return value"
   ]
  },
  {
   "cell_type": "markdown",
   "id": "2864f831",
   "metadata": {},
   "source": [
    "Q5. How many global scopes are there in a Python program? How many local scopes?\n",
    "\n",
    "There is one global scope, and a local scope is created whenever a function is called."
   ]
  },
  {
   "cell_type": "markdown",
   "id": "391c9dcd",
   "metadata": {},
   "source": [
    "Q6. What happens to variables in a local scope when the function call returns?\n",
    "\n",
    "When a function returns, the local scope is destroyed, and all the variables in it are forgotten."
   ]
  },
  {
   "cell_type": "markdown",
   "id": "f895dd14",
   "metadata": {},
   "source": [
    "Q7. What is the concept of a return value? Is it possible to have a return value in an expression?\n",
    "\n",
    "A return value is the value that a function call evaluates to. Like any value, a return value can be used as part of an expression."
   ]
  },
  {
   "cell_type": "markdown",
   "id": "3ad34d61",
   "metadata": {},
   "source": [
    "Q8. If a function does not have a return statement, what is the return value of a call to that function?\n",
    "\n",
    "If there is no return statement for a function, its return value is None."
   ]
  },
  {
   "cell_type": "markdown",
   "id": "4798ef56",
   "metadata": {},
   "source": [
    "Q9. How do you make a function variable refer to the global variable?\n",
    "\n",
    "A global statement will force a variable in a function to refer to the global variable."
   ]
  },
  {
   "cell_type": "markdown",
   "id": "251344a1",
   "metadata": {},
   "source": [
    "Q10. What is the data type of None?\n",
    "\n",
    "The data type of None is NoneType"
   ]
  },
  {
   "cell_type": "markdown",
   "id": "770f8c6b",
   "metadata": {},
   "source": [
    "Q11. What does the sentence import areallyourpetsnamederic do?\n",
    "\n",
    "That import statement imports a module named areallyourpetsnamederic"
   ]
  },
  {
   "cell_type": "markdown",
   "id": "2d226a36",
   "metadata": {},
   "source": [
    "Q12. If you had a bacon() feature in a spam module, what would you call it after importing spam?\n",
    "\n",
    "This function can be called with spam.bacon()."
   ]
  },
  {
   "cell_type": "markdown",
   "id": "1720d702",
   "metadata": {},
   "source": [
    "Q13. What can you do to save a programme from crashing if it encounters an error?\n",
    "\n",
    "Place the line of code that might cause an error in a try clause"
   ]
  },
  {
   "cell_type": "markdown",
   "id": "19a02bbc",
   "metadata": {},
   "source": [
    "Q14. What is the purpose of the try clause? What is the purpose of the except clause?\n",
    "\n",
    "The code that could potentially cause an error goes in the try clause.\n",
    "-The code that executes if an error happens goes in the except clause."
   ]
  },
  {
   "cell_type": "code",
   "execution_count": null,
   "id": "df720044",
   "metadata": {},
   "outputs": [],
   "source": []
  }
 ],
 "metadata": {
  "kernelspec": {
   "display_name": "Python 3 (ipykernel)",
   "language": "python",
   "name": "python3"
  },
  "language_info": {
   "codemirror_mode": {
    "name": "ipython",
    "version": 3
   },
   "file_extension": ".py",
   "mimetype": "text/x-python",
   "name": "python",
   "nbconvert_exporter": "python",
   "pygments_lexer": "ipython3",
   "version": "3.9.12"
  }
 },
 "nbformat": 4,
 "nbformat_minor": 5
}
